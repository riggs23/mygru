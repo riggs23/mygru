{
  "nbformat": 4,
  "nbformat_minor": 0,
  "metadata": {
    "colab": {
      "name": "LSTM.ipynb",
      "provenance": [],
      "collapsed_sections": [],
      "authorship_tag": "ABX9TyMfEwNIDnzuWm8Pk0KUQKCv",
      "include_colab_link": true
    },
    "kernelspec": {
      "name": "python3",
      "display_name": "Python 3"
    },
    "accelerator": "GPU"
  },
  "cells": [
    {
      "cell_type": "markdown",
      "metadata": {
        "id": "view-in-github",
        "colab_type": "text"
      },
      "source": [
        "<a href=\"https://colab.research.google.com/github/riggs23/mygru/blob/master/LSTM.ipynb\" target=\"_parent\"><img src=\"https://colab.research.google.com/assets/colab-badge.svg\" alt=\"Open In Colab\"/></a>"
      ]
    },
    {
      "cell_type": "code",
      "metadata": {
        "id": "W5mFSUlqjWac",
        "colab_type": "code",
        "colab": {
          "base_uri": "https://localhost:8080/",
          "height": 34
        },
        "outputId": "15fa319c-f445-4aea-ce93-f10ed65033ab"
      },
      "source": [
        "#JTV version\n",
        "\n",
        "\n",
        "import pandas as pd\n",
        "import numpy as np\n",
        "import random\n",
        "import time\n",
        "import datetime as dt\n",
        "import warnings;\n",
        "warnings.filterwarnings('ignore')\n",
        "import tensorflow as tf\n",
        "from tensorflow import keras\n",
        "from keras.preprocessing.sequence import pad_sequences\n",
        "from keras.layers import Embedding, LSTM, Dense, Dropout, Bidirectional, GRU\n",
        "from keras.preprocessing.text import Tokenizer\n",
        "from keras.callbacks import EarlyStopping\n",
        "from keras.models import Sequential\n",
        "import keras.utils as ku \n",
        "from keras.metrics import TopKCategoricalAccuracy as topk\n",
        "import matplotlib.pyplot as plt\n",
        "from tqdm import tqdm\n",
        "import gc\n",
        "\n"
      ],
      "execution_count": 1,
      "outputs": [
        {
          "output_type": "stream",
          "text": [
            "Using TensorFlow backend.\n"
          ],
          "name": "stderr"
        }
      ]
    },
    {
      "cell_type": "code",
      "metadata": {
        "id": "NY6gWK9AeB9t",
        "colab_type": "code",
        "colab": {}
      },
      "source": [
        "#clean up data\n",
        "data = pd.read_csv('jtv_dat')\n",
        "data.columns = ['SessionId', 'TimeStr', 'ItemId']\n",
        "#temp make data really small\n",
        "data = data.iloc[:50000,]\n",
        "data['Time'] = data.TimeStr.apply(lambda x: dt.datetime.strptime(x, '%Y-%m-%d %H:%M:%S').timestamp()) #This is not UTC. It does not really matter.\n",
        "del(data['TimeStr'])\n",
        "#data = data.astype({'ItemId': 'str'})"
      ],
      "execution_count": 2,
      "outputs": []
    },
    {
      "cell_type": "markdown",
      "metadata": {
        "id": "HLOVlSxYGZXE",
        "colab_type": "text"
      },
      "source": [
        ""
      ]
    },
    {
      "cell_type": "code",
      "metadata": {
        "id": "VtzbarxiTp3i",
        "colab_type": "code",
        "colab": {
          "base_uri": "https://localhost:8080/",
          "height": 137
        },
        "outputId": "c5b69f50-4be5-425d-b895-f601ca900395"
      },
      "source": [
        "'''start = time.time()\n",
        "min_sess_len = 4\n",
        "session_lengths = data.groupby('SessionId').size()\n",
        "data = data[np.isin(data.SessionId, session_lengths[session_lengths>=min_sess_len].index)] #filters out 1-purchase sessions\n",
        "item_supports = data.groupby('ItemId').size()\n",
        "data = data[np.isin(data.ItemId, item_supports[item_supports>=8].index)] #filters out items that have been bought on less then 3 times\n",
        "session_lengths = data.groupby('SessionId').size()\n",
        "data = data[np.isin(data.SessionId, session_lengths[session_lengths>=min_sess_len].index)]#filters out newly-formed 1-purchase sessions\n",
        "\n",
        "\n",
        "session_max_times = data.groupby('SessionId').Time.max()\n",
        "tsep = np.quantile(session_max_times, .9)\n",
        "session_train = session_max_times[session_max_times < tsep].index #train is first 90% of data\n",
        "session_test = session_max_times[session_max_times >= tsep].index\n",
        "train = data[np.isin(data.SessionId, session_train)]\n",
        "test = data[np.isin(data.SessionId, session_test)]\n",
        "\n",
        "session_max_times = train.groupby('SessionId').Time.max()\n",
        "tsep = np.quantile(session_max_times, .8)\n",
        "session_train = session_max_times[session_max_times < tsep].index\n",
        "session_valid = session_max_times[session_max_times >= tsep].index\n",
        "train_tr = train[np.in1d(train.SessionId, session_train)]\n",
        "valid = train[np.in1d(train.SessionId, session_valid)]\n",
        "\n",
        "tslength = train_tr.groupby('SessionId').size()\n",
        "train_tr = train_tr[np.in1d(train_tr.SessionId, tslength[tslength>=min_sess_len].index)] #gets rid of new 1-purchase sessions\n",
        "\n",
        "valid = valid[np.in1d(valid.ItemId, train_tr.ItemId)] #gets rid of validation items not in train\n",
        "tslength = valid.groupby('SessionId').size()\n",
        "valid = valid[np.in1d(valid.SessionId, tslength[tslength>=min_sess_len].index)] #gets rid of new 1-purchase sessions\n",
        "\n",
        "test = test[np.isin(test.ItemId, train_tr.ItemId)] #gets rid of items not in train set. \n",
        "tslength = test.groupby('SessionId').size()\n",
        "test = test[np.isin(test.SessionId, tslength[tslength>=min_sess_len].index)]#gets rid of any new 1-purchase sessions\n",
        "print('Train set\\n\\tEvents: {}\\n\\tSessions: {}\\n\\tItems: {}'.format(len(train_tr), train_tr.SessionId.nunique(), train_tr.ItemId.nunique()))\n",
        "print('Validation set\\n\\tEvents: {}\\n\\tSessions: {}\\n\\tItems: {}'.format(len(valid), valid.SessionId.nunique(), valid.ItemId.nunique()))\n",
        "print('Test set\\n\\tEvents: {}\\n\\tSessions: {}\\n\\tItems: {}'.format(len(test), test.SessionId.nunique(), test.ItemId.nunique()))\n",
        "end = time.time()\n",
        "print(\"Time:\", (end-start)/60, \"mins\")\n",
        "del train'''"
      ],
      "execution_count": 3,
      "outputs": [
        {
          "output_type": "execute_result",
          "data": {
            "application/vnd.google.colaboratory.intrinsic": {
              "type": "string"
            },
            "text/plain": [
              "'start = time.time()\\nmin_sess_len = 4\\nsession_lengths = data.groupby(\\'SessionId\\').size()\\ndata = data[np.isin(data.SessionId, session_lengths[session_lengths>=min_sess_len].index)] #filters out 1-purchase sessions\\nitem_supports = data.groupby(\\'ItemId\\').size()\\ndata = data[np.isin(data.ItemId, item_supports[item_supports>=8].index)] #filters out items that have been bought on less then 3 times\\nsession_lengths = data.groupby(\\'SessionId\\').size()\\ndata = data[np.isin(data.SessionId, session_lengths[session_lengths>=min_sess_len].index)]#filters out newly-formed 1-purchase sessions\\n\\n\\nsession_max_times = data.groupby(\\'SessionId\\').Time.max()\\ntsep = np.quantile(session_max_times, .9)\\nsession_train = session_max_times[session_max_times < tsep].index #train is first 90% of data\\nsession_test = session_max_times[session_max_times >= tsep].index\\ntrain = data[np.isin(data.SessionId, session_train)]\\ntest = data[np.isin(data.SessionId, session_test)]\\n\\nsession_max_times = train.groupby(\\'SessionId\\').Time.max()\\ntsep = np.quantile(session_max_times, .8)\\nsession_train = session_max_times[session_max_times < tsep].index\\nsession_valid = session_max_times[session_max_times >= tsep].index\\ntrain_tr = train[np.in1d(train.SessionId, session_train)]\\nvalid = train[np.in1d(train.SessionId, session_valid)]\\n\\ntslength = train_tr.groupby(\\'SessionId\\').size()\\ntrain_tr = train_tr[np.in1d(train_tr.SessionId, tslength[tslength>=min_sess_len].index)] #gets rid of new 1-purchase sessions\\n\\nvalid = valid[np.in1d(valid.ItemId, train_tr.ItemId)] #gets rid of validation items not in train\\ntslength = valid.groupby(\\'SessionId\\').size()\\nvalid = valid[np.in1d(valid.SessionId, tslength[tslength>=min_sess_len].index)] #gets rid of new 1-purchase sessions\\n\\ntest = test[np.isin(test.ItemId, train_tr.ItemId)] #gets rid of items not in train set. \\ntslength = test.groupby(\\'SessionId\\').size()\\ntest = test[np.isin(test.SessionId, tslength[tslength>=min_sess_len].index)]#gets rid of any new 1-purchase sessions\\nprint(\\'Train set\\n\\tEvents: {}\\n\\tSessions: {}\\n\\tItems: {}\\'.format(len(train_tr), train_tr.SessionId.nunique(), train_tr.ItemId.nunique()))\\nprint(\\'Validation set\\n\\tEvents: {}\\n\\tSessions: {}\\n\\tItems: {}\\'.format(len(valid), valid.SessionId.nunique(), valid.ItemId.nunique()))\\nprint(\\'Test set\\n\\tEvents: {}\\n\\tSessions: {}\\n\\tItems: {}\\'.format(len(test), test.SessionId.nunique(), test.ItemId.nunique()))\\nend = time.time()\\nprint(\"Time:\", (end-start)/60, \"mins\")\\ndel train'"
            ]
          },
          "metadata": {
            "tags": []
          },
          "execution_count": 3
        }
      ]
    },
    {
      "cell_type": "code",
      "metadata": {
        "id": "trsqSaQ2A4fR",
        "colab_type": "code",
        "colab": {
          "base_uri": "https://localhost:8080/",
          "height": 235
        },
        "outputId": "6914b2a5-3acd-4fc2-e568-cf8f97523604"
      },
      "source": [
        "#not time sorted\n",
        "min_item_supports = 8\n",
        "min_sess_len = 6\n",
        "start = time.time()\n",
        "session_lengths = data.groupby('SessionId').size()\n",
        "data = data[np.isin(data.SessionId, session_lengths[session_lengths>=min_sess_len].index)] #filters out 1-purchase sessions\n",
        "item_supports = data.groupby('ItemId').size()\n",
        "data = data[np.isin(data.ItemId, item_supports[item_supports>=min_item_supports].index)] #filters out items that have been bought on less then 3 times\n",
        "session_lengths = data.groupby('SessionId').size()\n",
        "data = data[np.isin(data.SessionId, session_lengths[session_lengths>=min_sess_len].index)]#filters out newly-formed 1-purchase sessions\n",
        "\n",
        "\n",
        "sessions = data.SessionId.unique()\n",
        "random.shuffle(sessions)\n",
        "session_train = sessions[0:np.round(.9*len(sessions)).astype(int)]\n",
        "session_test = sessions[np.round(.9*len(sessions)).astype(int):]\n",
        "train = data[np.isin(data.SessionId, session_train)]\n",
        "test_data = data[np.isin(data.SessionId, session_test)]\n",
        "sessions = train.SessionId.unique()\n",
        "random.shuffle(sessions)\n",
        "session_train = sessions[0:np.round(.75*len(sessions)).astype(int)]\n",
        "session_valid = sessions[np.round(.75*len(sessions)).astype(int):]\n",
        "train_data = train[np.isin(train.SessionId, session_train)]\n",
        "#dev_data = train[np.isin(train.SessionId, session_valid)]\n",
        "valid_data = train[np.isin(train.SessionId, session_valid)]\n",
        "\n",
        "#get rid of duplicate purchases\n",
        "train_data = train_data[~((train_data.iloc[:, 0] == train_data.shift().iloc[:, 0]) & (train_data.iloc[:, 1] ==  train_data.shift().iloc[:, 1]))].reset_index(drop = True)\n",
        "tslength = train_data.groupby('SessionId').size()\n",
        "train_data = train_data[np.isin(train_data.SessionId, tslength[tslength>=min_sess_len].index)] #gets rid of new 1-purchase sessions\n",
        "\n",
        "#dev_data = dev_data[np.isin(dev_data.ItemId, train_data.ItemId)] #gets rid of validation items not in train\n",
        "valid_data = valid_data[np.isin(valid_data.ItemId, train_data.ItemId)] #gets rid of validation items not in train\n",
        "#tslength = dev_data.groupby('SessionId').size()\n",
        "valid_data = valid_data[~((valid_data.iloc[:, 0] == valid_data.shift().iloc[:, 0]) & (valid_data.iloc[:, 1] ==  valid_data.shift().iloc[:, 1]))].reset_index(drop = True)\n",
        "tslength = valid_data.groupby('SessionId').size()\n",
        "#dev_data = dev_data[np.isin(dev_data.SessionId, tslength[tslength>=min_sess_len].index)] #gets rid of new 1-purchase sessions\n",
        "valid_data = valid_data[np.isin(valid_data.SessionId, tslength[tslength>=min_sess_len].index)] #gets rid of new 1-purchase sessions\n",
        "\n",
        "test_data = test_data[np.isin(test_data.ItemId, train_data.ItemId)] #gets rid of items not in train set.\n",
        "test_data = test_data[~((test_data.iloc[:, 0] == test_data.shift().iloc[:, 0]) & (test_data.iloc[:, 1] ==  test_data.shift().iloc[:, 1]))].reset_index(drop = True)\n",
        "tslength = test_data.groupby('SessionId').size()\n",
        "test_data = test_data[np.isin(test_data.SessionId, tslength[tslength>=min_sess_len].index)]#gets rid of any new 1-purchase sessions\n",
        "\n",
        "print('Train set\\n\\tEvents: {}\\n\\tSessions: {}\\n\\tItems: {}'.format(len(train_data), train_data.SessionId.nunique(), train_data.ItemId.nunique()))\n",
        "#print('Dev set\\n\\tEvents: {}\\n\\tSessions: {}\\n\\tItems: {}'.format(len(dev_data), dev_data.SessionId.nunique(), dev_data.ItemId.nunique()))\n",
        "print('Valid set\\n\\tEvents: {}\\n\\tSessions: {}\\n\\tItems: {}'.format(len(valid_data), valid_data.SessionId.nunique(), valid_data.ItemId.nunique()))\n",
        "print('Test set\\n\\tEvents: {}\\n\\tSessions: {}\\n\\tItems: {}'.format(len(test_data), test_data.SessionId.nunique(), test_data.ItemId.nunique()))\n",
        "end = time.time()\n",
        "print(\"Time:\", (end-start)/60, \"mins\")\n",
        "del train"
      ],
      "execution_count": 4,
      "outputs": [
        {
          "output_type": "stream",
          "text": [
            "Train set\n",
            "\tEvents: 7424\n",
            "\tSessions: 321\n",
            "\tItems: 946\n",
            "Valid set\n",
            "\tEvents: 2413\n",
            "\tSessions: 107\n",
            "\tItems: 833\n",
            "Test set\n",
            "\tEvents: 944\n",
            "\tSessions: 48\n",
            "\tItems: 562\n",
            "Time: 0.0008952816327412924 mins\n"
          ],
          "name": "stdout"
        }
      ]
    },
    {
      "cell_type": "code",
      "metadata": {
        "id": "swH_ZyoqaDR1",
        "colab_type": "code",
        "colab": {
          "base_uri": "https://localhost:8080/",
          "height": 69
        },
        "outputId": "ab46ef4a-bbf9-48a7-c529-30e2cdc60b39"
      },
      "source": [
        "#unique vocab for our data set - assign each product to a number\n",
        "train_itemids = train_data['ItemId'].unique()\n",
        "n_items = len(train_itemids)\n",
        "train_itemidmap = pd.Series(data=np.arange(1, n_items + 1), index=train_itemids, name='ItemIdx') #don't want zero as index, it will be padding num\n",
        "'''#train_itemidmap = dict(zip(train_itemids, np.arange(1, n_items + 1)))\n",
        "train_tr['ItemIdx'] = train_itemidmap[train_tr['ItemId'].values].values\n",
        "#test\n",
        "test_itemids = test['ItemId'].unique()\n",
        "test['ItemIdx'] = train_itemidmap[test['ItemId'].values].values\n",
        "#valid\n",
        "valid_itemids = valid['ItemId'].unique()\n",
        "valid['ItemIdx'] = train_itemidmap[valid['ItemId'].values].values'''"
      ],
      "execution_count": 5,
      "outputs": [
        {
          "output_type": "execute_result",
          "data": {
            "application/vnd.google.colaboratory.intrinsic": {
              "type": "string"
            },
            "text/plain": [
              "\"#train_itemidmap = dict(zip(train_itemids, np.arange(1, n_items + 1)))\\ntrain_tr['ItemIdx'] = train_itemidmap[train_tr['ItemId'].values].values\\n#test\\ntest_itemids = test['ItemId'].unique()\\ntest['ItemIdx'] = train_itemidmap[test['ItemId'].values].values\\n#valid\\nvalid_itemids = valid['ItemId'].unique()\\nvalid['ItemIdx'] = train_itemidmap[valid['ItemId'].values].values\""
            ]
          },
          "metadata": {
            "tags": []
          },
          "execution_count": 5
        }
      ]
    },
    {
      "cell_type": "code",
      "metadata": {
        "id": "AJZ91ujPTzpz",
        "colab_type": "code",
        "colab": {
          "base_uri": "https://localhost:8080/",
          "height": 34
        },
        "outputId": "f33d79c9-19c2-4dee-c67c-41721384a997"
      },
      "source": [
        "customers_train = train_data[\"SessionId\"].unique().tolist()\n",
        "# populate the list with the product codes\n",
        "start = time.time()\n",
        "purchases_train = [train_data[train_data[\"SessionId\"] == i]['ItemId'].tolist() for i in customers_train]\n",
        "end = time.time()\n",
        "end - start\n",
        "\n",
        "customers_test = test_data[\"SessionId\"].unique().tolist()\n",
        "start = time.time()\n",
        "purchases_test = [test_data[test_data[\"SessionId\"] == i][\"ItemId\"].tolist() for i in customers_test]\n",
        "end = time.time()\n",
        "end - start\n",
        "\n",
        "customers_val = valid_data[\"SessionId\"].unique().tolist()\n",
        "start = time.time()\n",
        "purchases_val = [valid_data[valid_data[\"SessionId\"] == i][\"ItemId\"].tolist() for i in customers_val]\n",
        "end = time.time()\n",
        "end - start"
      ],
      "execution_count": 6,
      "outputs": [
        {
          "output_type": "execute_result",
          "data": {
            "text/plain": [
              "0.0607607364654541"
            ]
          },
          "metadata": {
            "tags": []
          },
          "execution_count": 6
        }
      ]
    },
    {
      "cell_type": "code",
      "metadata": {
        "id": "1TN09xHWUdrZ",
        "colab_type": "code",
        "colab": {}
      },
      "source": [
        "\n",
        "##################### get the number to pad with\n",
        "def get_max(mylist):\n",
        "  max_len = 0\n",
        "  for i in mylist:\n",
        "    h = max(len(elem) for elem in i)\n",
        "    if h > max_len:\n",
        "      max_len = h\n",
        "  return max_len\n",
        "\n"
      ],
      "execution_count": 7,
      "outputs": []
    },
    {
      "cell_type": "code",
      "metadata": {
        "id": "s1lwejLZGmVi",
        "colab_type": "code",
        "colab": {
          "base_uri": "https://localhost:8080/",
          "height": 34
        },
        "outputId": "04cf0003-a1ed-421f-8c11-9f52c2e3aad4"
      },
      "source": [
        "purchases_train[1]"
      ],
      "execution_count": 8,
      "outputs": [
        {
          "output_type": "execute_result",
          "data": {
            "text/plain": [
              "[4051330, 3965814, 4025826, 4070991, 4027137, 3753967]"
            ]
          },
          "metadata": {
            "tags": []
          },
          "execution_count": 8
        }
      ]
    },
    {
      "cell_type": "code",
      "metadata": {
        "id": "eGEfg-hCU0TP",
        "colab_type": "code",
        "colab": {
          "base_uri": "https://localhost:8080/",
          "height": 52
        },
        "outputId": "17a09a7f-e0e4-44c0-9ec4-6bf38ff77df6"
      },
      "source": [
        "'''#add element ot other two lists of length longest_list\n",
        "purchases_train.append(list(map(int, np.zeros(61))))\n",
        "purchases_val.append(list(map(int, np.zeros(61))))'''"
      ],
      "execution_count": 9,
      "outputs": [
        {
          "output_type": "execute_result",
          "data": {
            "application/vnd.google.colaboratory.intrinsic": {
              "type": "string"
            },
            "text/plain": [
              "'#add element ot other two lists of length longest_list\\npurchases_train.append(list(map(int, np.zeros(61))))\\npurchases_val.append(list(map(int, np.zeros(61))))'"
            ]
          },
          "metadata": {
            "tags": []
          },
          "execution_count": 9
        }
      ]
    },
    {
      "cell_type": "markdown",
      "metadata": {
        "id": "ltmza2AUGZ4R",
        "colab_type": "text"
      },
      "source": [
        "# Language Modeling LSTM"
      ]
    },
    {
      "cell_type": "code",
      "metadata": {
        "id": "KciA95hrr4WA",
        "colab_type": "code",
        "colab": {
          "base_uri": "https://localhost:8080/",
          "height": 34
        },
        "outputId": "f06eb1b3-1d7b-4eb4-fe66-9c424d024b54"
      },
      "source": [
        "device_name = tf.test.gpu_device_name()\n",
        "if device_name != '/device:GPU:0':\n",
        "  print(\n",
        "      '\\n\\nThis error most likely means that this notebook is not '\n",
        "      'configured to use a GPU.  Change this in Notebook Settings via the '\n",
        "      'command palette (cmd/ctrl-shift-P) or the Edit menu.\\n\\n')\n",
        "  raise SystemError('GPU device not found')\n",
        "else:\n",
        "  print(\"using GPU\")"
      ],
      "execution_count": 10,
      "outputs": [
        {
          "output_type": "stream",
          "text": [
            "using GPU\n"
          ],
          "name": "stdout"
        }
      ]
    },
    {
      "cell_type": "code",
      "metadata": {
        "id": "DXZDJ7yvI4Yk",
        "colab_type": "code",
        "colab": {}
      },
      "source": [
        "max_sequence_len = get_max([purchases_train, purchases_val, purchases_test])\n",
        "total_words = len(train_itemidmap) + 1\n",
        "\n",
        "def dataset_preparation(data, mapper):\n",
        "\n",
        "  #total_words = len(mapper) + 1\n",
        "\n",
        "  input_sequences = []\n",
        "  extra_words = []\n",
        "  for line in data:\n",
        "    token_list = mapper.loc[line].tolist() #change jtv items to tokens\n",
        "    #use this to get sequences like [1, 12, 123, 1234]\n",
        "    #for i in range(1, len(token_list)):\n",
        "      #n_gram_sequence = token_list[:i+1]\n",
        "      #extra_sequence = token_list[i+1:]\n",
        "      #input_sequences.append(n_gram_sequence)\n",
        "      #extra_words.append(extra_sequence)\n",
        "    #use this to get sequences like [123, 234, 345]\n",
        "    #use min_sess_len instead of 4\n",
        "    for i in range(0, len(token_list) - (5- 1)):\n",
        "      n_gram_sequence = token_list[i:i+5]\n",
        "      input_sequences.append(n_gram_sequence)\n",
        "\n",
        "  # pad sequences \n",
        "  input_sequences = np.array(pad_sequences(input_sequences, maxlen=max_sequence_len, padding='pre'))\n",
        "  # create predictors and label\n",
        "  predictors, label = input_sequences[:,:-1],input_sequences[:,-1]\n",
        "  label = ku.to_categorical(label, num_classes=total_words)\n",
        "\n",
        "  return predictors, label\n",
        "\n",
        "\n",
        "def generate_text(seed_text, next_words, max_sequence_len, mapper):\n",
        "  products = seed_text.copy()\n",
        "  for _ in range(next_words):\n",
        "    itemized = mapper.loc[products].values.tolist()\n",
        "    token_list = pad_sequences([itemized], maxlen=max_sequence_len-1, padding='pre')\n",
        "    predicted = model.predict_classes(token_list, verbose=0)\n",
        "    output_item = mapper.keys()[predicted.item() - 1]\n",
        "    products.append(output_item)\n",
        "  return products"
      ],
      "execution_count": 12,
      "outputs": []
    },
    {
      "cell_type": "code",
      "metadata": {
        "id": "jfPOJyd3XlTI",
        "colab_type": "code",
        "colab": {
          "base_uri": "https://localhost:8080/",
          "height": 137
        },
        "outputId": "c54ea1cc-5b67-4833-cfe0-af203a1a96a8"
      },
      "source": [
        "'''def create_model(predictors, label, max_sequence_len, total_words, i, j, k, l, m, valid_predictors = None, valid_label = None):\n",
        "  epochs = 5\n",
        "  model = Sequential()\n",
        "  model.add(Embedding(total_words, i, input_length=max_sequence_len-1, mask_zero=True))\n",
        "  model.add(Dropout(j))\n",
        "  model.add(LSTM(l, return_sequences = False))\n",
        "  model.add(Dropout(k))\n",
        "  #model.add(LSTM(8))\n",
        "  #model.add(Dropout(0.2))\n",
        "  model.add(Dense(total_words, activation='softmax'))\n",
        "\n",
        "  #opt = tf.keras.optimizers.Nadam(learning_rate=0.0003, beta_1=.7, beta_2=.8)\n",
        "  opt = tf.keras.optimizers.Adam(learning_rate= m)\n",
        "  model.compile(loss='categorical_crossentropy', optimizer=opt, metrics=[topk(k=5)])\n",
        "  earlystop = EarlyStopping(monitor='val_loss', min_delta=0, patience=30, verbose=0, mode='auto')\n",
        "  #, callbacks=[earlystop]in the model.fit\n",
        "  h = model.fit(predictors, label, epochs=epochs, verbose=1,  batch_size= 128, validation_data = (valid_predictors, valid_label)) #history\n",
        "  print(model.summary())\n",
        "\n",
        "\n",
        "  return model, h'''"
      ],
      "execution_count": 12,
      "outputs": [
        {
          "output_type": "execute_result",
          "data": {
            "application/vnd.google.colaboratory.intrinsic": {
              "type": "string"
            },
            "text/plain": [
              "\"def create_model(predictors, label, max_sequence_len, total_words, i, j, k, l, m, valid_predictors = None, valid_label = None):\\n  epochs = 5\\n  model = Sequential()\\n  model.add(Embedding(total_words, i, input_length=max_sequence_len-1, mask_zero=True))\\n  model.add(Dropout(j))\\n  model.add(LSTM(l, return_sequences = False))\\n  model.add(Dropout(k))\\n  #model.add(LSTM(8))\\n  #model.add(Dropout(0.2))\\n  model.add(Dense(total_words, activation='softmax'))\\n\\n  #opt = tf.keras.optimizers.Nadam(learning_rate=0.0003, beta_1=.7, beta_2=.8)\\n  opt = tf.keras.optimizers.Adam(learning_rate= m)\\n  model.compile(loss='categorical_crossentropy', optimizer=opt, metrics=[topk(k=5)])\\n  earlystop = EarlyStopping(monitor='val_loss', min_delta=0, patience=30, verbose=0, mode='auto')\\n  #, callbacks=[earlystop]in the model.fit\\n  h = model.fit(predictors, label, epochs=epochs, verbose=1,  batch_size= 128, validation_data = (valid_predictors, valid_label)) #history\\n  print(model.summary())\\n\\n\\n  return model, h\""
            ]
          },
          "metadata": {
            "tags": []
          },
          "execution_count": 12
        }
      ]
    },
    {
      "cell_type": "code",
      "metadata": {
        "id": "HJOM8UKIZ1uZ",
        "colab_type": "code",
        "colab": {
          "base_uri": "https://localhost:8080/",
          "height": 137
        },
        "outputId": "25c28acf-3d09-4049-b98d-0218b18b411b"
      },
      "source": [
        "'''predictors, label = dataset_preparation(purchases_train, train_itemidmap)\n",
        "valid_predictors, valid_label = dataset_preparation(purchases_val, train_itemidmap)\n",
        "test_predictors, test_label = dataset_preparation(purchases_test, train_itemidmap)\n",
        "#parameters to adjust\n",
        "sizer = [175]\n",
        "drop_1 = [.7]\n",
        "drop_2 = [0, .2, .7]\n",
        "LSTM_size = [64, 128]\n",
        "l_r = [.0003, .003]\n",
        "z = 1\n",
        "zz = []\n",
        "for i in sizer:\n",
        "  for j in drop_1:\n",
        "    for k in drop_2:\n",
        "      for l in LSTM_size:\n",
        "        for m in l_r:\n",
        "          model, h= create_model(predictors, label, max_sequence_len, total_words, i=1, j=j, k=k, l=l, m=m, valid_label=valid_label, valid_predictors=valid_predictors)\n",
        "          print(z)\n",
        "          test_acc = model.evaluate(test_predictors, test_label, verbose=0)[1]\n",
        "          print(\"Test Accuracy: \",np.round(test_acc,4))\n",
        "          zz.append(np.round(test_acc, 4))\n",
        "          plt.plot(h.history['loss'], label='Train loss')\n",
        "          plt.plot(h.history['val_loss'], label='Validation loss')\n",
        "          plt.xlabel('Epochs')\n",
        "          plt.ylabel('Loss')\n",
        "          plt.legend(['Train_loss', 'Validation_loss'])\n",
        "          #plt.savefig('Loss'+str(z))\n",
        "          plt.show()\n",
        "\n",
        "          plt.plot(h.history['top_k_categorical_accuracy'], label='Train accuracy')\n",
        "          plt.plot(h.history['val_top_k_categorical_accuracy'], label='Validation accuracy')\n",
        "          plt.xlabel('Epochs')\n",
        "          plt.ylabel('Accuracy')\n",
        "          plt.legend(['Train_acc', 'Validation_acc'])\n",
        "          #plt.savefig('Accuray'+str(z))\n",
        "          plt.show()\n",
        "          z += 1\n",
        "\n",
        "          \n",
        "\n",
        "'''"
      ],
      "execution_count": 13,
      "outputs": [
        {
          "output_type": "execute_result",
          "data": {
            "application/vnd.google.colaboratory.intrinsic": {
              "type": "string"
            },
            "text/plain": [
              "'predictors, label = dataset_preparation(purchases_train, train_itemidmap)\\nvalid_predictors, valid_label = dataset_preparation(purchases_val, train_itemidmap)\\ntest_predictors, test_label = dataset_preparation(purchases_test, train_itemidmap)\\n#parameters to adjust\\nsizer = [175]\\ndrop_1 = [.7]\\ndrop_2 = [0, .2, .7]\\nLSTM_size = [64, 128]\\nl_r = [.0003, .003]\\nz = 1\\nzz = []\\nfor i in sizer:\\n  for j in drop_1:\\n    for k in drop_2:\\n      for l in LSTM_size:\\n        for m in l_r:\\n          model, h= create_model(predictors, label, max_sequence_len, total_words, i=1, j=j, k=k, l=l, m=m, valid_label=valid_label, valid_predictors=valid_predictors)\\n          print(z)\\n          test_acc = model.evaluate(test_predictors, test_label, verbose=0)[1]\\n          print(\"Test Accuracy: \",np.round(test_acc,4))\\n          zz.append(np.round(test_acc, 4))\\n          plt.plot(h.history[\\'loss\\'], label=\\'Train loss\\')\\n          plt.plot(h.history[\\'val_loss\\'], label=\\'Validation loss\\')\\n          plt.xlabel(\\'Epochs\\')\\n          plt.ylabel(\\'Loss\\')\\n          plt.legend([\\'Train_loss\\', \\'Validation_loss\\'])\\n          #plt.savefig(\\'Loss\\'+str(z))\\n          plt.show()\\n\\n          plt.plot(h.history[\\'top_k_categorical_accuracy\\'], label=\\'Train accuracy\\')\\n          plt.plot(h.history[\\'val_top_k_categorical_accuracy\\'], label=\\'Validation accuracy\\')\\n          plt.xlabel(\\'Epochs\\')\\n          plt.ylabel(\\'Accuracy\\')\\n          plt.legend([\\'Train_acc\\', \\'Validation_acc\\'])\\n          #plt.savefig(\\'Accuray\\'+str(z))\\n          plt.show()\\n          z += 1\\n\\n          \\n\\n'"
            ]
          },
          "metadata": {
            "tags": []
          },
          "execution_count": 13
        }
      ]
    },
    {
      "cell_type": "code",
      "metadata": {
        "id": "tp8TzXxG-iQS",
        "colab_type": "code",
        "colab": {}
      },
      "source": [
        "def create_model(predictors, label, max_sequence_len, total_words, valid_predictors = None, valid_label = None, test_predictors = None, test_label = None):\n",
        "  epochs = 150\n",
        "  model = Sequential()\n",
        "  model.add(Embedding(total_words, 60, input_length=max_sequence_len-1, mask_zero=True))\n",
        "  model.add(Dropout(.7))\n",
        "  model.add(LSTM(128, dropout=0.3, recurrent_dropout=0.3, return_sequences = True))\n",
        "  model.add(LSTM(64, dropout=0.3, recurrent_dropout=0.3, return_sequences=False))\n",
        "  #model.add(LSTM(32, dropout=0.5, recurrent_dropout=0.5))\n",
        "  #model.add(Dropout(.7))\n",
        "  model.add(Dense(total_words, activation='softmax'))\n",
        "\n",
        "  opt = tf.keras.optimizers.Nadam(learning_rate=0.003, beta_1=.7, beta_2=.8)\n",
        "  #opt = tf.keras.optimizers.Adam(learning_rate=.0003)\n",
        "  model.compile(loss='categorical_crossentropy', optimizer=opt, metrics=[topk(k=5)])\n",
        "  earlystop = EarlyStopping(monitor='val_loss', min_delta=0, patience=30, verbose=0, mode='auto')\n",
        "  #, callbacks=[earlystop]in the model.fit\n",
        "  #validation_data = (valid_predictors, valid_label),\n",
        "  h = model.fit(predictors, label, epochs=epochs, verbose=1,  batch_size= 128, validation_data = (valid_predictors, valid_label)) #history\n",
        "  print(model.summary())\n",
        "\n",
        "\n",
        "  return model, h"
      ],
      "execution_count": 13,
      "outputs": []
    },
    {
      "cell_type": "code",
      "metadata": {
        "id": "-tNwqf1k9qdo",
        "colab_type": "code",
        "colab": {}
      },
      "source": [
        ""
      ],
      "execution_count": 14,
      "outputs": []
    },
    {
      "cell_type": "code",
      "metadata": {
        "id": "ebFkKcSmHiS1",
        "colab_type": "code",
        "colab": {
          "base_uri": "https://localhost:8080/",
          "height": 759
        },
        "outputId": "25df1b90-73f7-4561-c39e-5d652c30a9c7"
      },
      "source": [
        "predictors, label = dataset_preparation(purchases_train, train_itemidmap)\n",
        "valid_predictors, valid_label = dataset_preparation(purchases_val, train_itemidmap)\n",
        "test_predictors, test_label = dataset_preparation(purchases_test, train_itemidmap)\n",
        "\n",
        "model, h= create_model(predictors, label, max_sequence_len, total_words, valid_label=valid_label, valid_predictors=valid_predictors)\n",
        "#, valid_label=valid_label, valid_predictors=valid_predictors\n",
        "#print(generate_text(purchases_train[1], 1, max_sequence_len, train_itemidmap))\n",
        "#test_acc = model.evaluate(test_predictors, test_label, verbose=0)[1]\n",
        "#print(\"Test Accuracy: \",np.round(test_acc,4))"
      ],
      "execution_count": null,
      "outputs": [
        {
          "output_type": "stream",
          "text": [
            "Train on 6140 samples, validate on 1985 samples\n",
            "Epoch 1/150\n",
            "6140/6140 [==============================] - 111s 18ms/step - loss: 6.8227 - top_k_categorical_accuracy: 0.0207 - val_loss: 6.8272 - val_top_k_categorical_accuracy: 0.0302\n",
            "Epoch 2/150\n",
            "6140/6140 [==============================] - 109s 18ms/step - loss: 6.7325 - top_k_categorical_accuracy: 0.0259 - val_loss: 6.8700 - val_top_k_categorical_accuracy: 0.0307\n",
            "Epoch 3/150\n",
            "6140/6140 [==============================] - 111s 18ms/step - loss: 6.7048 - top_k_categorical_accuracy: 0.0277 - val_loss: 6.8481 - val_top_k_categorical_accuracy: 0.0338\n",
            "Epoch 4/150\n",
            "6140/6140 [==============================] - 109s 18ms/step - loss: 6.6820 - top_k_categorical_accuracy: 0.0274 - val_loss: 6.8816 - val_top_k_categorical_accuracy: 0.0307\n",
            "Epoch 5/150\n",
            "6140/6140 [==============================] - 110s 18ms/step - loss: 6.6649 - top_k_categorical_accuracy: 0.0275 - val_loss: 6.8892 - val_top_k_categorical_accuracy: 0.0292\n",
            "Epoch 6/150\n",
            "6140/6140 [==============================] - 108s 18ms/step - loss: 6.6413 - top_k_categorical_accuracy: 0.0295 - val_loss: 6.8886 - val_top_k_categorical_accuracy: 0.0302\n",
            "Epoch 7/150\n",
            "6140/6140 [==============================] - 109s 18ms/step - loss: 6.6215 - top_k_categorical_accuracy: 0.0272 - val_loss: 6.9374 - val_top_k_categorical_accuracy: 0.0292\n",
            "Epoch 8/150\n",
            "6140/6140 [==============================] - 110s 18ms/step - loss: 6.6036 - top_k_categorical_accuracy: 0.0300 - val_loss: 6.9295 - val_top_k_categorical_accuracy: 0.0277\n",
            "Epoch 9/150\n",
            "6140/6140 [==============================] - 109s 18ms/step - loss: 6.5801 - top_k_categorical_accuracy: 0.0288 - val_loss: 7.0033 - val_top_k_categorical_accuracy: 0.0272\n",
            "Epoch 10/150\n",
            "6140/6140 [==============================] - 112s 18ms/step - loss: 6.5539 - top_k_categorical_accuracy: 0.0308 - val_loss: 6.9419 - val_top_k_categorical_accuracy: 0.0242\n",
            "Epoch 11/150\n",
            "6140/6140 [==============================] - 110s 18ms/step - loss: 6.5447 - top_k_categorical_accuracy: 0.0300 - val_loss: 6.9583 - val_top_k_categorical_accuracy: 0.0252\n",
            "Epoch 12/150\n",
            "6140/6140 [==============================] - 108s 18ms/step - loss: 6.5287 - top_k_categorical_accuracy: 0.0319 - val_loss: 6.9842 - val_top_k_categorical_accuracy: 0.0282\n",
            "Epoch 13/150\n",
            "6140/6140 [==============================] - 109s 18ms/step - loss: 6.5224 - top_k_categorical_accuracy: 0.0309 - val_loss: 6.9791 - val_top_k_categorical_accuracy: 0.0282\n",
            "Epoch 14/150\n",
            "6140/6140 [==============================] - 109s 18ms/step - loss: 6.5086 - top_k_categorical_accuracy: 0.0318 - val_loss: 7.0381 - val_top_k_categorical_accuracy: 0.0272\n",
            "Epoch 15/150\n",
            "6140/6140 [==============================] - 107s 17ms/step - loss: 6.4928 - top_k_categorical_accuracy: 0.0334 - val_loss: 7.0033 - val_top_k_categorical_accuracy: 0.0262\n",
            "Epoch 16/150\n",
            "6140/6140 [==============================] - 107s 17ms/step - loss: 6.4817 - top_k_categorical_accuracy: 0.0360 - val_loss: 6.9898 - val_top_k_categorical_accuracy: 0.0292\n",
            "Epoch 17/150\n",
            "6140/6140 [==============================] - 106s 17ms/step - loss: 6.4590 - top_k_categorical_accuracy: 0.0350 - val_loss: 7.0066 - val_top_k_categorical_accuracy: 0.0247\n",
            "Epoch 18/150\n",
            "6140/6140 [==============================] - 106s 17ms/step - loss: 6.4331 - top_k_categorical_accuracy: 0.0350 - val_loss: 7.0557 - val_top_k_categorical_accuracy: 0.0247\n",
            "Epoch 19/150\n",
            "6140/6140 [==============================] - 106s 17ms/step - loss: 6.4171 - top_k_categorical_accuracy: 0.0368 - val_loss: 7.0459 - val_top_k_categorical_accuracy: 0.0237\n",
            "Epoch 20/150\n",
            "6140/6140 [==============================] - 107s 17ms/step - loss: 6.3843 - top_k_categorical_accuracy: 0.0427 - val_loss: 7.0654 - val_top_k_categorical_accuracy: 0.0262\n",
            "Epoch 21/150\n",
            "5504/6140 [=========================>....] - ETA: 10s - loss: 6.3542 - top_k_categorical_accuracy: 0.0447"
          ],
          "name": "stdout"
        }
      ]
    },
    {
      "cell_type": "code",
      "metadata": {
        "id": "pbNbPF4ZM7uf",
        "colab_type": "code",
        "colab": {
          "base_uri": "https://localhost:8080/",
          "height": 229
        },
        "outputId": "ed70758f-9f76-44cd-8181-b4da88c21125"
      },
      "source": [
        "plt.plot(h.history['loss'], label='Train loss')\n",
        "plt.plot(h.history['val_loss'], label='Validation loss')\n",
        "plt.xlabel('Epochs')\n",
        "plt.ylabel('Loss')\n",
        "plt.legend(['Train_loss', 'Validation_loss'])\n",
        "plt.show()\n",
        "\n",
        "plt.plot(h.history['top_k_categorical_accuracy'], label='Train accuracy')\n",
        "plt.plot(h.history['val_top_k_categorical_accuracy'], label='Validation accuracy')\n",
        "plt.xlabel('Epochs')\n",
        "plt.ylabel('Accuracy')\n",
        "plt.legend(['Train_acc', 'Validation_acc'])\n",
        "plt.show()\n"
      ],
      "execution_count": null,
      "outputs": [
        {
          "output_type": "error",
          "ename": "NameError",
          "evalue": "ignored",
          "traceback": [
            "\u001b[0;31m---------------------------------------------------------------------------\u001b[0m",
            "\u001b[0;31mNameError\u001b[0m                                 Traceback (most recent call last)",
            "\u001b[0;32m<ipython-input-1-a46ce12755c7>\u001b[0m in \u001b[0;36m<module>\u001b[0;34m()\u001b[0m\n\u001b[0;32m----> 1\u001b[0;31m \u001b[0mplt\u001b[0m\u001b[0;34m.\u001b[0m\u001b[0mplot\u001b[0m\u001b[0;34m(\u001b[0m\u001b[0mh\u001b[0m\u001b[0;34m.\u001b[0m\u001b[0mhistory\u001b[0m\u001b[0;34m[\u001b[0m\u001b[0;34m'loss'\u001b[0m\u001b[0;34m]\u001b[0m\u001b[0;34m,\u001b[0m \u001b[0mlabel\u001b[0m\u001b[0;34m=\u001b[0m\u001b[0;34m'Train loss'\u001b[0m\u001b[0;34m)\u001b[0m\u001b[0;34m\u001b[0m\u001b[0;34m\u001b[0m\u001b[0m\n\u001b[0m\u001b[1;32m      2\u001b[0m \u001b[0mplt\u001b[0m\u001b[0;34m.\u001b[0m\u001b[0mplot\u001b[0m\u001b[0;34m(\u001b[0m\u001b[0mh\u001b[0m\u001b[0;34m.\u001b[0m\u001b[0mhistory\u001b[0m\u001b[0;34m[\u001b[0m\u001b[0;34m'val_loss'\u001b[0m\u001b[0;34m]\u001b[0m\u001b[0;34m,\u001b[0m \u001b[0mlabel\u001b[0m\u001b[0;34m=\u001b[0m\u001b[0;34m'Validation loss'\u001b[0m\u001b[0;34m)\u001b[0m\u001b[0;34m\u001b[0m\u001b[0;34m\u001b[0m\u001b[0m\n\u001b[1;32m      3\u001b[0m \u001b[0mplt\u001b[0m\u001b[0;34m.\u001b[0m\u001b[0mxlabel\u001b[0m\u001b[0;34m(\u001b[0m\u001b[0;34m'Epochs'\u001b[0m\u001b[0;34m)\u001b[0m\u001b[0;34m\u001b[0m\u001b[0;34m\u001b[0m\u001b[0m\n\u001b[1;32m      4\u001b[0m \u001b[0mplt\u001b[0m\u001b[0;34m.\u001b[0m\u001b[0mylabel\u001b[0m\u001b[0;34m(\u001b[0m\u001b[0;34m'Loss'\u001b[0m\u001b[0;34m)\u001b[0m\u001b[0;34m\u001b[0m\u001b[0;34m\u001b[0m\u001b[0m\n\u001b[1;32m      5\u001b[0m \u001b[0mplt\u001b[0m\u001b[0;34m.\u001b[0m\u001b[0mlegend\u001b[0m\u001b[0;34m(\u001b[0m\u001b[0;34m[\u001b[0m\u001b[0;34m'Train_loss'\u001b[0m\u001b[0;34m,\u001b[0m \u001b[0;34m'Validation_loss'\u001b[0m\u001b[0;34m]\u001b[0m\u001b[0;34m)\u001b[0m\u001b[0;34m\u001b[0m\u001b[0;34m\u001b[0m\u001b[0m\n",
            "\u001b[0;31mNameError\u001b[0m: name 'plt' is not defined"
          ]
        }
      ]
    },
    {
      "cell_type": "code",
      "metadata": {
        "id": "IyMLK7Zxk5mF",
        "colab_type": "code",
        "colab": {
          "base_uri": "https://localhost:8080/",
          "height": 541
        },
        "outputId": "2669f523-1101-4ae4-de0f-56ae90352bd2"
      },
      "source": [
        "def plot(model, val_bool = True):\n",
        "  plt.plot(model.history['loss'], label='Train loss')\n",
        "  if val_bool:\n",
        "    plt.plot(model.history['val_loss'], label='Validation loss')\n",
        "  plt.xlabel('Epochs')\n",
        "  plt.ylabel('Loss')\n",
        "  if val_bool:\n",
        "    plt.legend(['Train_loss', 'Validation_loss'])\n",
        "  else:\n",
        "    plt.legend('Train_loss')\n",
        "  plt.show()\n",
        "  plt.plot(model.history['top_k_categorical_accuracy'], label='Train accuracy')\n",
        "  if val_bool:\n",
        "    plt.plot(model.history['val_top_k_categorical_accuracy'], label='Validation accuracy')\n",
        "  plt.xlabel('Epochs')\n",
        "  plt.ylabel('Accuracy')\n",
        "  if val_bool:\n",
        "    plt.legend(['Train_acc', 'Validation_acc'])\n",
        "  else:\n",
        "    plt.legend('Train_loss')\n",
        "  plt.show()\n",
        "\n",
        "plot(h, val_bool = False)"
      ],
      "execution_count": null,
      "outputs": [
        {
          "output_type": "display_data",
          "data": {
            "image/png": "[encoded data removed]",
            "text/plain": [
              "<Figure size 432x288 with 1 Axes>"
            ]
          },
          "metadata": {
            "tags": [],
            "needs_background": "light"
          }
        },
        {
          "output_type": "display_data",
          "data": {
            "image/png": "[encoded data removed]",
            "text/plain": [
              "<Figure size 432x288 with 1 Axes>"
            ]
          },
          "metadata": {
            "tags": [],
            "needs_background": "light"
          }
        }
      ]
    },
    {
      "cell_type": "code",
      "metadata": {
        "id": "MXSNY7q_YsyG",
        "colab_type": "code",
        "colab": {}
      },
      "source": [
        "#testing to make sure the model isn't getting rid of options to choose from!\n",
        "hh= []\n",
        "for i in range(len(test_predictors)):\n",
        "  hh.append(np.count_nonzero(model.predict(test_predictors[[i]])))\n",
        "for i in range(5):\n",
        "  print(hh.count(i) / len(hh))\n",
        "\n"
      ],
      "execution_count": null,
      "outputs": []
    },
    {
      "cell_type": "code",
      "metadata": {
        "id": "GBsAMDL4wHdh",
        "colab_type": "code",
        "colab": {
          "base_uri": "https://localhost:8080/",
          "height": 34
        },
        "outputId": "0291cb4f-2750-44d7-df62-6f280d1f36ab"
      },
      "source": [
        "token_list= train_itemidmap.loc[purchases_test[0][0:2]].tolist()\n",
        "token_list = np.array(pad_sequences([token_list], maxlen=max_sequence_len - 1, padding='pre'))\n",
        "print(model.predict_proba(token_list).flatten())\n",
        "\n",
        "\n"
      ],
      "execution_count": null,
      "outputs": [
        {
          "output_type": "stream",
          "text": [
            "[0.00060733 0.0006254  0.00061685 ... 0.00061197 0.00061148 0.00062113]\n"
          ],
          "name": "stdout"
        }
      ]
    },
    {
      "cell_type": "code",
      "metadata": {
        "id": "pXCE_HHHv9gm",
        "colab_type": "code",
        "colab": {
          "base_uri": "https://localhost:8080/",
          "height": 336
        },
        "outputId": "b6966f24-751e-4f96-eaa5-d67a704469d5"
      },
      "source": [
        "train_itemidmap[purchases_test[0]]\n"
      ],
      "execution_count": null,
      "outputs": [
        {
          "output_type": "execute_result",
          "data": {
            "text/plain": [
              "4050549     259\n",
              "4003156     162\n",
              "4069470    1359\n",
              "4051505    1380\n",
              "3616580    1396\n",
              "3551162     722\n",
              "3551157      44\n",
              "4081957     534\n",
              "4103889     533\n",
              "4049575     246\n",
              "4076737     183\n",
              "4084405      17\n",
              "3957504    1439\n",
              "4102273    1460\n",
              "4085856      42\n",
              "4168275    1274\n",
              "3966285    1447\n",
              "3754848     247\n",
              "Name: ItemIdx, dtype: int64"
            ]
          },
          "metadata": {
            "tags": []
          },
          "execution_count": 17
        }
      ]
    },
    {
      "cell_type": "code",
      "metadata": {
        "id": "AV5ReCDYFnKd",
        "colab_type": "code",
        "colab": {
          "base_uri": "https://localhost:8080/",
          "height": 34
        },
        "outputId": "0c4a58e0-885c-45e2-8212-33d2cf081223"
      },
      "source": [
        "'''print(purchases_test[0])\n",
        "print(generate_text(purchases_test[0][0:2], 1, max_sequence_len, train_itemidmap))\n",
        "print(generate_text(purchases_test[0][1:3], 1, max_sequence_len, train_itemidmap))\n",
        "print(generate_text(purchases_test[0][2:4], 1, max_sequence_len, train_itemidmap))\n",
        "print(generate_text(purchases_test[0][3:5], 1, max_sequence_len, train_itemidmap))\n",
        "print(generate_text(purchases_test[0][4:6], 1, max_sequence_len, train_itemidmap))\n",
        "print(generate_text(purchases_test[0][5:7], 1, max_sequence_len, train_itemidmap))'''\n",
        "\n",
        "#len(model.predict_proba(token_list).flatten().tolist())\n",
        "token_list = np.array(pad_sequences([token_list], maxlen=max_sequence_len - 1, padding='pre'))\n",
        "model.predict_proba(token_list).flatten()\n"
      ],
      "execution_count": null,
      "outputs": [
        {
          "output_type": "execute_result",
          "data": {
            "text/plain": [
              "[4116034, 4096912, 4096912, 4086085, 4086085, 4267228, 3559889, 3559885]"
            ]
          },
          "metadata": {
            "tags": []
          },
          "execution_count": 218
        }
      ]
    },
    {
      "cell_type": "code",
      "metadata": {
        "id": "7FYKKc45HkvE",
        "colab_type": "code",
        "colab": {
          "base_uri": "https://localhost:8080/",
          "height": 185
        },
        "outputId": "5d4dcff4-3756-46e9-96df-f9b55dede8af"
      },
      "source": [
        "def visualize(tester_val, sub_seq_len):\n",
        "  print(\"Visualizing...\")\n",
        "  total_seq = train_itemidmap.loc[purchases_test[tester_val]].tolist()\n",
        "  print(total_seq)\n",
        "  for i in range(len(total_seq) - sub_seq_len):\n",
        "    token_list = total_seq[i:i+sub_seq_len]\n",
        "    yoyo = token_list\n",
        "    token_list = np.array(pad_sequences([token_list], maxlen=max_sequence_len - 1, padding='pre'))\n",
        "    print(yoyo, \"-->\", model.predict_proba(token_list).flatten().argsort()[-5:][::-1].tolist(), \"Should ==\", total_seq[i+sub_seq_len])\n",
        "visualize(1, 4)\n"
      ],
      "execution_count": null,
      "outputs": [
        {
          "output_type": "stream",
          "text": [
            "Visualizing...\n",
            "[1350, 240, 1350, 213, 384, 439, 36, 1520, 337, 457, 1170, 1170]\n",
            "[1350, 240, 1350, 213] --> [1084, 227, 396, 879, 77] Should == 384\n",
            "[240, 1350, 213, 384] --> [227, 1049, 294, 137, 573] Should == 439\n",
            "[1350, 213, 384, 439] --> [164, 573, 520, 387, 396] Should == 36\n",
            "[213, 384, 439, 36] --> [573, 116, 1001, 43, 789] Should == 1520\n",
            "[384, 439, 36, 1520] --> [902, 1338, 116, 1343, 1291] Should == 337\n",
            "[439, 36, 1520, 337] --> [1338, 82, 1276, 1003, 547] Should == 457\n",
            "[36, 1520, 337, 457] --> [426, 1685, 521, 595, 1279] Should == 1170\n",
            "[1520, 337, 457, 1170] --> [526, 80, 2, 1111, 1663] Should == 1170\n"
          ],
          "name": "stdout"
        }
      ]
    },
    {
      "cell_type": "code",
      "metadata": {
        "id": "BHDNJNr3zP2I",
        "colab_type": "code",
        "colab": {
          "base_uri": "https://localhost:8080/",
          "height": 84
        },
        "outputId": "ec104ccb-fa9d-4c4a-f964-36f398ae9586"
      },
      "source": [
        "def get_acc_seq_len(tester_val, sub_seq_len, extra_positives_len): #tester val for one\n",
        "  acc = []\n",
        "  print(\"Getting acc...\")\n",
        "  for i in tqdm(range(len(purchases_test))):\n",
        "    total_seq = train_itemidmap.loc[purchases_test[i]].tolist()\n",
        "    for i in range(len(total_seq) - sub_seq_len):\n",
        "      possibles = []\n",
        "      token_list = total_seq[i:i+sub_seq_len]\n",
        "      next_purch = total_seq[i + sub_seq_len]\n",
        "      #option 1 - next purchase is element of the sequence we're using to predict it --> accurate\n",
        "      #or, just continue without counting accuracy - maybe better\n",
        "      #if next_purch in token_list:\n",
        "        #acc.append(True)\n",
        "        #continue\n",
        "      #option 2 - next purchase is any element in the sequence already, even those before our sequence we're using. \n",
        "      if next_purch in total_seq[:i + sub_seq_len]:\n",
        "        acc.append(True)\n",
        "        continue\n",
        "      #get the top_k preds, but trim down to exclude those that have already been purchased\n",
        "      #yoyo = token_list\n",
        "      token_list = np.array(pad_sequences([token_list], maxlen=max_sequence_len - 1, padding='pre'))\n",
        "      predictions = model.predict_proba(token_list).flatten().argsort()[-50:][::-1].tolist() #get 100??? but narrow down after\n",
        "      #if already purchased, don't recommend\n",
        "      #for i in reversed(range(len(predictions))):\n",
        "        #if predictions[i] in total_seq[:i+sub_seq_len]:\n",
        "          #predictions.remove(predictions[i])\n",
        "      predictions = predictions[0:5]\n",
        "      #now, check if next_purch or a few extras are in the recommended list. if so, call it good.\n",
        "      #might be risky - if i have three extras, and a few seqs in a row recommend that third item, i get three as good that aren't necessarily???\n",
        "      possibles = total_seq[i+sub_seq_len:i+sub_seq_len+extra_positives_len]\n",
        "      acc.append(any(check in possibles for check in predictions))\n",
        "  return np.round(np.mean(acc), 4)\n",
        "start = time.time()\n",
        "print(get_acc_seq_len(1,5,5))\n",
        "print(get_acc_seq_len(2,5,5))\n",
        "\n",
        "#print(\"3 seq, 3 after:\", get_acc_seq_len(3, 3, 3))\n",
        "'''print(\"3 seq, 4 after:\", get_acc_seq_len(3, 3, 4))\n",
        "print(\"4 seq, 3 after:\", get_acc_seq_len(3, 4, 3))\n",
        "print(\"5 seq, 3 after:\", get_acc_seq_len(3, 5, 3))\n",
        "print(\"5 seq, 4 after:\", get_acc_seq_len(3, 5, 4))'''\n",
        "\n",
        "\n",
        "\n",
        "end = time.time()\n",
        "print('time:', end-start, \"Seconds\")\n",
        "\n",
        "\n",
        "\n",
        "\n",
        "  "
      ],
      "execution_count": null,
      "outputs": [
        {
          "output_type": "stream",
          "text": [
            "\r  0%|          | 0/90 [00:00<?, ?it/s]"
          ],
          "name": "stderr"
        },
        {
          "output_type": "stream",
          "text": [
            "Getting acc...\n"
          ],
          "name": "stdout"
        },
        {
          "output_type": "stream",
          "text": [
            "100%|██████████| 90/90 [13:25<00:00,  8.95s/it]"
          ],
          "name": "stderr"
        },
        {
          "output_type": "stream",
          "text": [
            "0.0211\n",
            "time: 805.2127313613892 Seconds\n"
          ],
          "name": "stdout"
        },
        {
          "output_type": "stream",
          "text": [
            "\n"
          ],
          "name": "stderr"
        }
      ]
    },
    {
      "cell_type": "code",
      "metadata": {
        "id": "kGJ9qpQfeJLt",
        "colab_type": "code",
        "colab": {
          "base_uri": "https://localhost:8080/",
          "height": 34
        },
        "outputId": "e4144888-5dd3-49b8-cfa0-8993fb4d4f7c"
      },
      "source": [
        "test_acc = model.evaluate(test_predictors, test_label, verbose=0)[1]\n",
        "print(\"Test Accuracy: \",np.round(test_acc,4))"
      ],
      "execution_count": null,
      "outputs": [
        {
          "output_type": "stream",
          "text": [
            "Test Accuracy:  0.0163\n"
          ],
          "name": "stdout"
        }
      ]
    },
    {
      "cell_type": "code",
      "metadata": {
        "id": "rbTqXYAN4xQj",
        "colab_type": "code",
        "colab": {
          "base_uri": "https://localhost:8080/",
          "height": 162
        },
        "outputId": "023b7aca-a207-4634-8d07-5d3e3e768298"
      },
      "source": [
        "model.predict_proba(token_list).flatten().argsort()[-5:][::-1].tolist()"
      ],
      "execution_count": null,
      "outputs": [
        {
          "output_type": "error",
          "ename": "NameError",
          "evalue": "ignored",
          "traceback": [
            "\u001b[0;31m---------------------------------------------------------------------------\u001b[0m",
            "\u001b[0;31mNameError\u001b[0m                                 Traceback (most recent call last)",
            "\u001b[0;32m<ipython-input-39-c07faa29e5a9>\u001b[0m in \u001b[0;36m<module>\u001b[0;34m()\u001b[0m\n\u001b[0;32m----> 1\u001b[0;31m \u001b[0mmodel\u001b[0m\u001b[0;34m.\u001b[0m\u001b[0mpredict_proba\u001b[0m\u001b[0;34m(\u001b[0m\u001b[0mtoken_list\u001b[0m\u001b[0;34m)\u001b[0m\u001b[0;34m.\u001b[0m\u001b[0mflatten\u001b[0m\u001b[0;34m(\u001b[0m\u001b[0;34m)\u001b[0m\u001b[0;34m.\u001b[0m\u001b[0margsort\u001b[0m\u001b[0;34m(\u001b[0m\u001b[0;34m)\u001b[0m\u001b[0;34m[\u001b[0m\u001b[0;34m-\u001b[0m\u001b[0;36m5\u001b[0m\u001b[0;34m:\u001b[0m\u001b[0;34m]\u001b[0m\u001b[0;34m[\u001b[0m\u001b[0;34m:\u001b[0m\u001b[0;34m:\u001b[0m\u001b[0;34m-\u001b[0m\u001b[0;36m1\u001b[0m\u001b[0;34m]\u001b[0m\u001b[0;34m.\u001b[0m\u001b[0mtolist\u001b[0m\u001b[0;34m(\u001b[0m\u001b[0;34m)\u001b[0m\u001b[0;34m\u001b[0m\u001b[0;34m\u001b[0m\u001b[0m\n\u001b[0m",
            "\u001b[0;31mNameError\u001b[0m: name 'token_list' is not defined"
          ]
        }
      ]
    },
    {
      "cell_type": "code",
      "metadata": {
        "id": "C5GyOISgpXSN",
        "colab_type": "code",
        "colab": {}
      },
      "source": [
        "def get_last_test():\n",
        "  input_sequences = []\n",
        "  token_list= []\n",
        "  for line in purchases_test:\n",
        "    token_list.append(train_itemidmap.loc[line].tolist()) #change jtv items to tokens\n",
        "    input_sequences = np.array(pad_sequences(token_list, maxlen=max_sequence_len, padding='pre'))\n",
        "  # create predictors and label\n",
        "  predictors, label = input_sequences[:,:-1],input_sequences[:,-1]\n",
        "  label = ku.to_categorical(label, num_classes=total_words)\n",
        "  return predictors, label\n"
      ],
      "execution_count": null,
      "outputs": []
    },
    {
      "cell_type": "code",
      "metadata": {
        "id": "TqOTQRDNFI5c",
        "colab_type": "code",
        "colab": {
          "base_uri": "https://localhost:8080/",
          "height": 34
        },
        "outputId": "e1819dbb-acb6-4290-9abe-0bd00cc9779d"
      },
      "source": [
        "test_predictors, test_label = get_last_test()\n",
        "test_acc = model.evaluate(test_predictors, test_label, verbose=0)[1]\n",
        "print(\"Test Accuracy: \",np.round(test_acc,4))"
      ],
      "execution_count": null,
      "outputs": [
        {
          "output_type": "stream",
          "text": [
            "Test Accuracy:  0.0\n"
          ],
          "name": "stdout"
        }
      ]
    },
    {
      "cell_type": "code",
      "metadata": {
        "id": "pjMtAJB6FLQu",
        "colab_type": "code",
        "colab": {}
      },
      "source": [
        "def revamped_acc():\n",
        "  "
      ],
      "execution_count": null,
      "outputs": []
    }
  ]
}